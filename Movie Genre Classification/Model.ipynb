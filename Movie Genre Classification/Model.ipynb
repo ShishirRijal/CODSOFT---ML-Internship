{
 "cells": [
  {
   "cell_type": "markdown",
   "id": "5b91621c-80e9-4f49-ace7-d45415389d93",
   "metadata": {},
   "source": [
    "# Import Libraries"
   ]
  },
  {
   "cell_type": "code",
   "execution_count": 1,
   "id": "dbb4e810",
   "metadata": {},
   "outputs": [],
   "source": [
    "import numpy as np \n",
    "import pandas as pd\n",
    "import seaborn as sns\n",
    "import matplotlib.pyplot as plt\n",
    "import nltk\n",
    "from nltk.corpus import stopwords\n",
    "from sklearn.feature_extraction.text import TfidfVectorizer\n",
    "import re\n",
    "from sklearn.linear_model import LogisticRegression\n",
    "from sklearn.naive_bayes import MultinomialNB\n",
    "from sklearn.metrics import accuracy_score, classification_report"
   ]
  },
  {
   "cell_type": "markdown",
   "id": "7edc3038-c05b-4fd7-9dfd-dd0aab918292",
   "metadata": {},
   "source": [
    "# Load Data And Analyze"
   ]
  },
  {
   "cell_type": "code",
   "execution_count": 2,
   "id": "8965c6fa-5ae3-48d2-985c-c089f12d60fa",
   "metadata": {},
   "outputs": [],
   "source": [
    "# Load data\n",
    "def load_data(path):\n",
    "    # read data from .txt file and assign names to columns\n",
    "    data = pd.read_csv(path, sep=\":::\", names=[\"ID\", \"Title\", \"Genre\", \"Plot\"], engine=\"python\")\n",
    "    # We aren't gonna need ID, so drop this column\n",
    "    data.drop(columns=[\"ID\"], inplace=True)\n",
    "    return data"
   ]
  },
  {
   "cell_type": "code",
   "execution_count": 3,
   "id": "ccd5cc8b",
   "metadata": {},
   "outputs": [],
   "source": [
    "# Import the train data \n",
    "df = load_data(\"data/train_data.txt\")"
   ]
  },
  {
   "cell_type": "code",
   "execution_count": 4,
   "id": "8dd6caf6-e3e8-4e3e-9204-052b73a13d36",
   "metadata": {},
   "outputs": [
    {
     "data": {
      "text/plain": [
       "(54214, 3)"
      ]
     },
     "execution_count": 4,
     "metadata": {},
     "output_type": "execute_result"
    }
   ],
   "source": [
    "# Get to know the data\n",
    "df.shape"
   ]
  },
  {
   "cell_type": "code",
   "execution_count": 5,
   "id": "2dfd0d8f-47c7-426b-a83c-4369bc7bcb3a",
   "metadata": {},
   "outputs": [
    {
     "data": {
      "text/html": [
       "<div>\n",
       "<style scoped>\n",
       "    .dataframe tbody tr th:only-of-type {\n",
       "        vertical-align: middle;\n",
       "    }\n",
       "\n",
       "    .dataframe tbody tr th {\n",
       "        vertical-align: top;\n",
       "    }\n",
       "\n",
       "    .dataframe thead th {\n",
       "        text-align: right;\n",
       "    }\n",
       "</style>\n",
       "<table border=\"1\" class=\"dataframe\">\n",
       "  <thead>\n",
       "    <tr style=\"text-align: right;\">\n",
       "      <th></th>\n",
       "      <th>Title</th>\n",
       "      <th>Genre</th>\n",
       "      <th>Plot</th>\n",
       "    </tr>\n",
       "  </thead>\n",
       "  <tbody>\n",
       "    <tr>\n",
       "      <th>0</th>\n",
       "      <td>Oscar et la dame rose (2009)</td>\n",
       "      <td>drama</td>\n",
       "      <td>Listening in to a conversation between his do...</td>\n",
       "    </tr>\n",
       "    <tr>\n",
       "      <th>1</th>\n",
       "      <td>Cupid (1997)</td>\n",
       "      <td>thriller</td>\n",
       "      <td>A brother and sister with a past incestuous r...</td>\n",
       "    </tr>\n",
       "    <tr>\n",
       "      <th>2</th>\n",
       "      <td>Young, Wild and Wonderful (1980)</td>\n",
       "      <td>adult</td>\n",
       "      <td>As the bus empties the students for their fie...</td>\n",
       "    </tr>\n",
       "    <tr>\n",
       "      <th>3</th>\n",
       "      <td>The Secret Sin (1915)</td>\n",
       "      <td>drama</td>\n",
       "      <td>To help their unemployed father make ends mee...</td>\n",
       "    </tr>\n",
       "    <tr>\n",
       "      <th>4</th>\n",
       "      <td>The Unrecovered (2007)</td>\n",
       "      <td>drama</td>\n",
       "      <td>The film's title refers not only to the un-re...</td>\n",
       "    </tr>\n",
       "  </tbody>\n",
       "</table>\n",
       "</div>"
      ],
      "text/plain": [
       "                                Title       Genre  \\\n",
       "0       Oscar et la dame rose (2009)       drama    \n",
       "1                       Cupid (1997)    thriller    \n",
       "2   Young, Wild and Wonderful (1980)       adult    \n",
       "3              The Secret Sin (1915)       drama    \n",
       "4             The Unrecovered (2007)       drama    \n",
       "\n",
       "                                                Plot  \n",
       "0   Listening in to a conversation between his do...  \n",
       "1   A brother and sister with a past incestuous r...  \n",
       "2   As the bus empties the students for their fie...  \n",
       "3   To help their unemployed father make ends mee...  \n",
       "4   The film's title refers not only to the un-re...  "
      ]
     },
     "execution_count": 5,
     "metadata": {},
     "output_type": "execute_result"
    }
   ],
   "source": [
    "# Let's take a look at first few data \n",
    "df.head()"
   ]
  },
  {
   "cell_type": "code",
   "execution_count": 6,
   "id": "b973ca55-733e-457b-8dd9-6fb1e0b95fc3",
   "metadata": {},
   "outputs": [
    {
     "data": {
      "text/html": [
       "<div>\n",
       "<style scoped>\n",
       "    .dataframe tbody tr th:only-of-type {\n",
       "        vertical-align: middle;\n",
       "    }\n",
       "\n",
       "    .dataframe tbody tr th {\n",
       "        vertical-align: top;\n",
       "    }\n",
       "\n",
       "    .dataframe thead th {\n",
       "        text-align: right;\n",
       "    }\n",
       "</style>\n",
       "<table border=\"1\" class=\"dataframe\">\n",
       "  <thead>\n",
       "    <tr style=\"text-align: right;\">\n",
       "      <th></th>\n",
       "      <th>Title</th>\n",
       "      <th>Genre</th>\n",
       "      <th>Plot</th>\n",
       "    </tr>\n",
       "  </thead>\n",
       "  <tbody>\n",
       "    <tr>\n",
       "      <th>count</th>\n",
       "      <td>54214</td>\n",
       "      <td>54214</td>\n",
       "      <td>54214</td>\n",
       "    </tr>\n",
       "    <tr>\n",
       "      <th>unique</th>\n",
       "      <td>54214</td>\n",
       "      <td>27</td>\n",
       "      <td>54086</td>\n",
       "    </tr>\n",
       "    <tr>\n",
       "      <th>top</th>\n",
       "      <td>Oscar et la dame rose (2009)</td>\n",
       "      <td>drama</td>\n",
       "      <td>Grammy - music award of the American academy ...</td>\n",
       "    </tr>\n",
       "    <tr>\n",
       "      <th>freq</th>\n",
       "      <td>1</td>\n",
       "      <td>13613</td>\n",
       "      <td>12</td>\n",
       "    </tr>\n",
       "  </tbody>\n",
       "</table>\n",
       "</div>"
      ],
      "text/plain": [
       "                                 Title    Genre  \\\n",
       "count                            54214    54214   \n",
       "unique                           54214       27   \n",
       "top      Oscar et la dame rose (2009)    drama    \n",
       "freq                                 1    13613   \n",
       "\n",
       "                                                     Plot  \n",
       "count                                               54214  \n",
       "unique                                              54086  \n",
       "top      Grammy - music award of the American academy ...  \n",
       "freq                                                   12  "
      ]
     },
     "execution_count": 6,
     "metadata": {},
     "output_type": "execute_result"
    }
   ],
   "source": [
    "df.describe()"
   ]
  },
  {
   "cell_type": "code",
   "execution_count": 7,
   "id": "df195641-6eb0-426e-9583-e0c1f8608e7c",
   "metadata": {},
   "outputs": [
    {
     "name": "stdout",
     "output_type": "stream",
     "text": [
      "<class 'pandas.core.frame.DataFrame'>\n",
      "RangeIndex: 54214 entries, 0 to 54213\n",
      "Data columns (total 3 columns):\n",
      " #   Column  Non-Null Count  Dtype \n",
      "---  ------  --------------  ----- \n",
      " 0   Title   54214 non-null  object\n",
      " 1   Genre   54214 non-null  object\n",
      " 2   Plot    54214 non-null  object\n",
      "dtypes: object(3)\n",
      "memory usage: 1.2+ MB\n"
     ]
    }
   ],
   "source": [
    "df.info()"
   ]
  },
  {
   "cell_type": "code",
   "execution_count": 8,
   "id": "6315cc33-f96c-49cb-9f29-ff7d11d6e8fb",
   "metadata": {},
   "outputs": [
    {
     "data": {
      "text/plain": [
       "Title    0\n",
       "Genre    0\n",
       "Plot     0\n",
       "dtype: int64"
      ]
     },
     "execution_count": 8,
     "metadata": {},
     "output_type": "execute_result"
    }
   ],
   "source": [
    "# Check for null values\n",
    "df.isnull().sum()"
   ]
  },
  {
   "cell_type": "code",
   "execution_count": 9,
   "id": "ca0cf113-b5de-40d6-a258-ecc3a408983b",
   "metadata": {},
   "outputs": [],
   "source": [
    "# So no null data at all for this dataset."
   ]
  },
  {
   "cell_type": "code",
   "execution_count": 10,
   "id": "5919e319-64ae-45bc-bcf2-4015b4fefa8f",
   "metadata": {},
   "outputs": [
    {
     "data": {
      "image/png": "[encoded data removed]",
      "text/plain": [
       "<Figure size 3000x1500 with 1 Axes>"
      ]
     },
     "metadata": {},
     "output_type": "display_data"
    }
   ],
   "source": [
    "#Barplot of genres and their count\n",
    "\n",
    "# all the unique genres\n",
    "genres = df['Genre'].value_counts() \n",
    "\n",
    "plt.figure(figsize=(30,15))\n",
    "sns.barplot(x=genres.index, y=genres, palette=\"Set2\", hue=genres)\n",
    "plt.title(\"Genres distribution\", fontsize=30, c='r')\n",
    "plt.xlabel(\"Genres\", fontsize=24)\n",
    "plt.ylabel(\"Count\", fontsize=24)\n",
    "plt.show()"
   ]
  },
  {
   "cell_type": "markdown",
   "id": "c6d8fa57-48fb-4a94-a310-b22f0441afe2",
   "metadata": {},
   "source": [
    "# Data Preprocessing"
   ]
  },
  {
   "cell_type": "code",
   "execution_count": 11,
   "id": "4d4088f2-6326-4555-b993-b64f4b7bcdc8",
   "metadata": {},
   "outputs": [],
   "source": [
    "vectorizer = TfidfVectorizer()"
   ]
  },
  {
   "cell_type": "code",
   "execution_count": 12,
   "id": "b421828c-19d7-481f-8498-928034136a0c",
   "metadata": {},
   "outputs": [],
   "source": [
    "vectorizer.get_stop_words()"
   ]
  },
  {
   "cell_type": "code",
   "execution_count": 13,
   "id": "b154eb66-07fa-4a32-a54c-7d05fc11a356",
   "metadata": {},
   "outputs": [],
   "source": [
    "# Let's try seeing the tokens fetting only few plots \n",
    "\n",
    "plot = df['Plot'][0:2] # get first plot\n",
    "type(plot)\n",
    "\n",
    "tokens = vectorizer.fit_transform(plot)\n"
   ]
  },
  {
   "cell_type": "code",
   "execution_count": 14,
   "id": "81cf1b57-c5b9-4baa-8789-17012a7fbe90",
   "metadata": {},
   "outputs": [
    {
     "data": {
      "text/plain": [
       "array(['10', 'allow', 'and', 'anyone', 'approaches', 'as', 'bacon',\n",
       "       'between', 'blue', 'brother', 'charm', 'childhood', 'christmas',\n",
       "       'close', 'company', 'conversation', 'corn', 'courage', 'current',\n",
       "       'doctor', 'einstein', 'except', 'experiences', 'fantastical',\n",
       "       'few', 'friends', 'full', 'furious', 'get', 'has', 'have', 'he',\n",
       "       'her', 'him', 'his', 'hospital', 'imagination', 'in', 'incestuous',\n",
       "       'lady', 'learns', 'life', 'listening', 'live', 'love', 'meets',\n",
       "       'murderous', 'murders', 'nobody', 'of', 'old', 'on', 'only',\n",
       "       'oscar', 'parents', 'past', 'peggy', 'pink', 'pop', 'professional',\n",
       "       'refuses', 'reject', 'relationship', 'rose', 'she', 'sister',\n",
       "       'speak', 'stairs', 'straight', 'sweetheart', 'talking', 'tell',\n",
       "       'the', 'to', 'too', 'uses', 'weeks', 'what', 'who', 'wit', 'with',\n",
       "       'women', 'wrestler', 'year'], dtype=object)"
      ]
     },
     "execution_count": 14,
     "metadata": {},
     "output_type": "execute_result"
    }
   ],
   "source": [
    "vectorizer.get_feature_names_out()"
   ]
  },
  {
   "cell_type": "code",
   "execution_count": 15,
   "id": "82eaf643-5c09-4631-9021-46650eed6a34",
   "metadata": {},
   "outputs": [
    {
     "name": "stdout",
     "output_type": "stream",
     "text": [
      "{'listening': 42, 'in': 37, 'to': 73, 'conversation': 15, 'between': 7, 'his': 34, 'doctor': 19, 'and': 2, 'parents': 54, '10': 0, 'year': 83, 'old': 50, 'oscar': 53, 'learns': 40, 'what': 77, 'nobody': 48, 'has': 29, 'the': 72, 'courage': 17, 'tell': 71, 'him': 33, 'he': 31, 'only': 52, 'few': 24, 'weeks': 76, 'live': 43, 'furious': 27, 'refuses': 60, 'speak': 66, 'anyone': 3, 'except': 21, 'straight': 68, 'talking': 70, 'rose': 63, 'lady': 39, 'pink': 57, 'meets': 45, 'on': 51, 'hospital': 35, 'stairs': 67, 'as': 5, 'christmas': 12, 'approaches': 4, 'uses': 75, 'her': 32, 'fantastical': 23, 'experiences': 22, 'professional': 59, 'wrestler': 82, 'imagination': 36, 'wit': 79, 'charm': 10, 'allow': 1, 'life': 41, 'love': 44, 'full': 26, 'company': 14, 'of': 49, 'friends': 25, 'pop': 58, 'corn': 16, 'einstein': 20, 'bacon': 6, 'childhood': 11, 'sweetheart': 69, 'peggy': 56, 'blue': 8, 'brother': 9, 'sister': 65, 'with': 80, 'past': 55, 'incestuous': 38, 'relationship': 62, 'have': 30, 'current': 18, 'murderous': 46, 'murders': 47, 'women': 81, 'who': 78, 'reject': 61, 'she': 64, 'get': 28, 'too': 74, 'close': 13}\n"
     ]
    }
   ],
   "source": [
    "print(vectorizer.vocabulary_)"
   ]
  },
  {
   "cell_type": "markdown",
   "id": "cc328ad3-4dd2-482b-8f00-aa2efb155189",
   "metadata": {},
   "source": [
    "In only these few plots there seem to be many stop words. So let's clean the plot by removing the stop words. "
   ]
  },
  {
   "cell_type": "code",
   "execution_count": 16,
   "id": "174eea67-e390-48cf-a07c-92b401f01951",
   "metadata": {},
   "outputs": [],
   "source": [
    "# Let's download the stopwords available in ntlk\n",
    "# nltk.download('stopwords')"
   ]
  },
  {
   "cell_type": "code",
   "execution_count": 17,
   "id": "a7a99321-17cc-4d70-a14c-b3f994acb945",
   "metadata": {},
   "outputs": [
    {
     "name": "stdout",
     "output_type": "stream",
     "text": [
      "['i', 'me', 'my', 'myself', 'we', 'our', 'ours', 'ourselves', 'you', \"you're\", \"you've\", \"you'll\", \"you'd\", 'your', 'yours', 'yourself', 'yourselves', 'he', 'him', 'his', 'himself', 'she', \"she's\", 'her', 'hers', 'herself', 'it', \"it's\", 'its', 'itself', 'they', 'them', 'their', 'theirs', 'themselves', 'what', 'which', 'who', 'whom', 'this', 'that', \"that'll\", 'these', 'those', 'am', 'is', 'are', 'was', 'were', 'be', 'been', 'being', 'have', 'has', 'had', 'having', 'do', 'does', 'did', 'doing', 'a', 'an', 'the', 'and', 'but', 'if', 'or', 'because', 'as', 'until', 'while', 'of', 'at', 'by', 'for', 'with', 'about', 'against', 'between', 'into', 'through', 'during', 'before', 'after', 'above', 'below', 'to', 'from', 'up', 'down', 'in', 'out', 'on', 'off', 'over', 'under', 'again', 'further', 'then', 'once', 'here', 'there', 'when', 'where', 'why', 'how', 'all', 'any', 'both', 'each', 'few', 'more', 'most', 'other', 'some', 'such', 'no', 'nor', 'not', 'only', 'own', 'same', 'so', 'than', 'too', 'very', 's', 't', 'can', 'will', 'just', 'don', \"don't\", 'should', \"should've\", 'now', 'd', 'll', 'm', 'o', 're', 've', 'y', 'ain', 'aren', \"aren't\", 'couldn', \"couldn't\", 'didn', \"didn't\", 'doesn', \"doesn't\", 'hadn', \"hadn't\", 'hasn', \"hasn't\", 'haven', \"haven't\", 'isn', \"isn't\", 'ma', 'mightn', \"mightn't\", 'mustn', \"mustn't\", 'needn', \"needn't\", 'shan', \"shan't\", 'shouldn', \"shouldn't\", 'wasn', \"wasn't\", 'weren', \"weren't\", 'won', \"won't\", 'wouldn', \"wouldn't\"]\n"
     ]
    }
   ],
   "source": [
    "# Let's see the stopwords vailable in nltk.corpus\n",
    "stop_words = nltk.corpus.stopwords.words('english')\n",
    "print(stop_words)"
   ]
  },
  {
   "cell_type": "code",
   "execution_count": 18,
   "id": "9e7829ec-79f3-48ac-8692-da5cb4296cbd",
   "metadata": {},
   "outputs": [
    {
     "name": "stdout",
     "output_type": "stream",
     "text": [
      "Before cleaning\n",
      "-------------------\n",
      " Listening in to a conversation between his doctor and parents, 10-year-old Oscar learns what nobody has the courage to tell him. He only has a few weeks to live. Furious, he refuses to speak to anyone except straight-talking Rose, the lady in pink he meets on the hospital stairs. As Christmas approaches, Rose uses her fantastical experiences as a professional wrestler, her imagination, wit and charm to allow Oscar to live life and love to the full, in the company of his friends Pop Corn, Einstein, Bacon and childhood sweetheart Peggy Blue.\n"
     ]
    }
   ],
   "source": [
    "# Let's see how the filtered plot looks like\n",
    "print(\"Before cleaning\\n-------------------\")\n",
    "print(plot[0])"
   ]
  },
  {
   "cell_type": "code",
   "execution_count": 19,
   "id": "771cfa73-dc8f-4d0a-be85-3b1af26f9a98",
   "metadata": {},
   "outputs": [
    {
     "name": "stdout",
     "output_type": "stream",
     "text": [
      "\n",
      "After cleaning\n",
      "-------------------\n",
      "Listening conversation doctor parents, 10-year-old Oscar learns nobody courage tell him. weeks live. Furious, refuses speak anyone except straight-talking Rose, lady pink meets hospital stairs. Christmas approaches, Rose uses fantastical experiences professional wrestler, imagination, wit charm allow Oscar live life love full, company friends Pop Corn, Einstein, Bacon childhood sweetheart Peggy Blue.\n"
     ]
    }
   ],
   "source": [
    "print(\"\\nAfter cleaning\\n-------------------\")\n",
    "clean_plot = [word for word in plot[0].split() if word.lower() not in stop_words]\n",
    "clean_plot = ' '.join(clean_plot)\n",
    "print(clean_plot)"
   ]
  },
  {
   "cell_type": "code",
   "execution_count": 20,
   "id": "6c4d5e19-7342-4353-8b72-4dbca9824379",
   "metadata": {},
   "outputs": [],
   "source": [
    "# I think should also get rid of these numbers, symbols, and few other words. \n",
    "# Now, let's write a function that does all of this."
   ]
  },
  {
   "cell_type": "code",
   "execution_count": 21,
   "id": "3fd91dbb-18ad-4573-b70b-fced2843faba",
   "metadata": {},
   "outputs": [],
   "source": [
    "# Clean the plot \n",
    "def clean_plot(plot):\n",
    "    # first lowercase all words\n",
    "    plot = plot.lower()\n",
    "    # omit numbers, symbols, and all, except alphabets\n",
    "    plot = re.sub(r'[^a-zA-Z\\s]+', '', plot).strip()\n",
    "    # remove the stopwords\n",
    "    stop_words = set(stopwords.words('english'))  # You need to define stopwords\n",
    "    plot = [word for word in plot.split() if word.lower() not in stop_words]\n",
    "    plot = ' '.join(plot)\n",
    "    # return clean plot\n",
    "    return plot\n",
    "    "
   ]
  },
  {
   "cell_type": "code",
   "execution_count": 22,
   "id": "2a1e44b2-f102-4b51-b0d1-e325fa8d99e9",
   "metadata": {},
   "outputs": [
    {
     "data": {
      "text/html": [
       "<div>\n",
       "<style scoped>\n",
       "    .dataframe tbody tr th:only-of-type {\n",
       "        vertical-align: middle;\n",
       "    }\n",
       "\n",
       "    .dataframe tbody tr th {\n",
       "        vertical-align: top;\n",
       "    }\n",
       "\n",
       "    .dataframe thead th {\n",
       "        text-align: right;\n",
       "    }\n",
       "</style>\n",
       "<table border=\"1\" class=\"dataframe\">\n",
       "  <thead>\n",
       "    <tr style=\"text-align: right;\">\n",
       "      <th></th>\n",
       "      <th>Title</th>\n",
       "      <th>Genre</th>\n",
       "      <th>Plot</th>\n",
       "      <th>Clean Plot</th>\n",
       "    </tr>\n",
       "  </thead>\n",
       "  <tbody>\n",
       "    <tr>\n",
       "      <th>0</th>\n",
       "      <td>Oscar et la dame rose (2009)</td>\n",
       "      <td>drama</td>\n",
       "      <td>Listening in to a conversation between his do...</td>\n",
       "      <td>listening conversation doctor parents yearold ...</td>\n",
       "    </tr>\n",
       "    <tr>\n",
       "      <th>1</th>\n",
       "      <td>Cupid (1997)</td>\n",
       "      <td>thriller</td>\n",
       "      <td>A brother and sister with a past incestuous r...</td>\n",
       "      <td>brother sister past incestuous relationship cu...</td>\n",
       "    </tr>\n",
       "    <tr>\n",
       "      <th>2</th>\n",
       "      <td>Young, Wild and Wonderful (1980)</td>\n",
       "      <td>adult</td>\n",
       "      <td>As the bus empties the students for their fie...</td>\n",
       "      <td>bus empties students field trip museum natural...</td>\n",
       "    </tr>\n",
       "    <tr>\n",
       "      <th>3</th>\n",
       "      <td>The Secret Sin (1915)</td>\n",
       "      <td>drama</td>\n",
       "      <td>To help their unemployed father make ends mee...</td>\n",
       "      <td>help unemployed father make ends meet edith tw...</td>\n",
       "    </tr>\n",
       "    <tr>\n",
       "      <th>4</th>\n",
       "      <td>The Unrecovered (2007)</td>\n",
       "      <td>drama</td>\n",
       "      <td>The film's title refers not only to the un-re...</td>\n",
       "      <td>films title refers unrecovered bodies ground z...</td>\n",
       "    </tr>\n",
       "  </tbody>\n",
       "</table>\n",
       "</div>"
      ],
      "text/plain": [
       "                                Title       Genre  \\\n",
       "0       Oscar et la dame rose (2009)       drama    \n",
       "1                       Cupid (1997)    thriller    \n",
       "2   Young, Wild and Wonderful (1980)       adult    \n",
       "3              The Secret Sin (1915)       drama    \n",
       "4             The Unrecovered (2007)       drama    \n",
       "\n",
       "                                                Plot  \\\n",
       "0   Listening in to a conversation between his do...   \n",
       "1   A brother and sister with a past incestuous r...   \n",
       "2   As the bus empties the students for their fie...   \n",
       "3   To help their unemployed father make ends mee...   \n",
       "4   The film's title refers not only to the un-re...   \n",
       "\n",
       "                                          Clean Plot  \n",
       "0  listening conversation doctor parents yearold ...  \n",
       "1  brother sister past incestuous relationship cu...  \n",
       "2  bus empties students field trip museum natural...  \n",
       "3  help unemployed father make ends meet edith tw...  \n",
       "4  films title refers unrecovered bodies ground z...  "
      ]
     },
     "execution_count": 22,
     "metadata": {},
     "output_type": "execute_result"
    }
   ],
   "source": [
    "# Clean all the plots and the clean plot to the data frame\n",
    "df['Clean Plot'] = df['Plot'].apply(clean_plot)\n",
    "df.head()"
   ]
  },
  {
   "cell_type": "markdown",
   "id": "fdf6f5da-be9c-42cd-9b29-488738ffbd72",
   "metadata": {},
   "source": [
    "# TF-IDF vectorizer"
   ]
  },
  {
   "cell_type": "code",
   "execution_count": 23,
   "id": "2e2c63ee-4f67-4339-9661-465dc17b5703",
   "metadata": {},
   "outputs": [],
   "source": [
    "# Let's again start with TF-IDF vectorizer\n",
    "vectorizer = TfidfVectorizer()"
   ]
  },
  {
   "cell_type": "code",
   "execution_count": 24,
   "id": "1095d0e6-c39f-4e63-884a-68ff1e5f70b6",
   "metadata": {},
   "outputs": [],
   "source": [
    "# Learn vocabulary and idf, return document-term matrix\n",
    "X_train = vectorizer.fit_transform(df['Clean Plot']) "
   ]
  },
  {
   "cell_type": "code",
   "execution_count": 25,
   "id": "74e7657e-3a06-48b7-bc31-c36aa4f0ac38",
   "metadata": {},
   "outputs": [
    {
     "data": {
      "text/plain": [
       "(54214, 146144)"
      ]
     },
     "execution_count": 25,
     "metadata": {},
     "output_type": "execute_result"
    }
   ],
   "source": [
    "X_train.shape"
   ]
  },
  {
   "cell_type": "code",
   "execution_count": 26,
   "id": "b9d46865-f36f-4a23-a0c0-45ec14407fee",
   "metadata": {},
   "outputs": [
    {
     "name": "stdout",
     "output_type": "stream",
     "text": [
      "(54214,)\n",
      "0               drama \n",
      "1            thriller \n",
      "2               adult \n",
      "3               drama \n",
      "4               drama \n",
      "             ...      \n",
      "54209          comedy \n",
      "54210          horror \n",
      "54211     documentary \n",
      "54212          comedy \n",
      "54213         history \n",
      "Name: Genre, Length: 54214, dtype: object\n"
     ]
    }
   ],
   "source": [
    "y_train = df['Genre']\n",
    "print(y_train.shape)\n",
    "print(y_train)"
   ]
  },
  {
   "cell_type": "markdown",
   "id": "90430cf3-483c-4447-91f4-17444c807db3",
   "metadata": {},
   "source": [
    "# Getting the test data"
   ]
  },
  {
   "cell_type": "code",
   "execution_count": 27,
   "id": "bab80951-d2a5-4246-9b89-d86ea78eb0c1",
   "metadata": {},
   "outputs": [],
   "source": [
    "# First get the train data\n",
    "# test_data = pd.read_csv(\"data/test_data.txt\", sep=\":::\", engine=\"python\", names=[\"ID\", \"Title\", \"Plot\"])"
   ]
  },
  {
   "cell_type": "code",
   "execution_count": 28,
   "id": "b39e44a4-50f9-47e3-bc96-f62ac42c4cf4",
   "metadata": {},
   "outputs": [],
   "source": [
    "# Better I directly read the solution file, but don't use the genre at all"
   ]
  },
  {
   "cell_type": "code",
   "execution_count": 29,
   "id": "7fde53f2-05f0-4817-9daf-5db7f9847b94",
   "metadata": {},
   "outputs": [],
   "source": [
    "test_data = load_data(\"data/test_data_solution.txt\")"
   ]
  },
  {
   "cell_type": "code",
   "execution_count": 30,
   "id": "b13bbe7a-bd63-40a9-b227-f299ede96249",
   "metadata": {},
   "outputs": [
    {
     "data": {
      "text/html": [
       "<div>\n",
       "<style scoped>\n",
       "    .dataframe tbody tr th:only-of-type {\n",
       "        vertical-align: middle;\n",
       "    }\n",
       "\n",
       "    .dataframe tbody tr th {\n",
       "        vertical-align: top;\n",
       "    }\n",
       "\n",
       "    .dataframe thead th {\n",
       "        text-align: right;\n",
       "    }\n",
       "</style>\n",
       "<table border=\"1\" class=\"dataframe\">\n",
       "  <thead>\n",
       "    <tr style=\"text-align: right;\">\n",
       "      <th></th>\n",
       "      <th>Title</th>\n",
       "      <th>Genre</th>\n",
       "      <th>Plot</th>\n",
       "    </tr>\n",
       "  </thead>\n",
       "  <tbody>\n",
       "    <tr>\n",
       "      <th>0</th>\n",
       "      <td>Edgar's Lunch (1998)</td>\n",
       "      <td>thriller</td>\n",
       "      <td>L.R. Brane loves his life - his car, his apar...</td>\n",
       "    </tr>\n",
       "    <tr>\n",
       "      <th>1</th>\n",
       "      <td>La guerra de papá (1977)</td>\n",
       "      <td>comedy</td>\n",
       "      <td>Spain, March 1964: Quico is a very naughty ch...</td>\n",
       "    </tr>\n",
       "    <tr>\n",
       "      <th>2</th>\n",
       "      <td>Off the Beaten Track (2010)</td>\n",
       "      <td>documentary</td>\n",
       "      <td>One year in the life of Albin and his family ...</td>\n",
       "    </tr>\n",
       "    <tr>\n",
       "      <th>3</th>\n",
       "      <td>Meu Amigo Hindu (2015)</td>\n",
       "      <td>drama</td>\n",
       "      <td>His father has died, he hasn't spoken with hi...</td>\n",
       "    </tr>\n",
       "    <tr>\n",
       "      <th>4</th>\n",
       "      <td>Er nu zhai (1955)</td>\n",
       "      <td>drama</td>\n",
       "      <td>Before he was known internationally as a mart...</td>\n",
       "    </tr>\n",
       "  </tbody>\n",
       "</table>\n",
       "</div>"
      ],
      "text/plain": [
       "                           Title          Genre  \\\n",
       "0          Edgar's Lunch (1998)       thriller    \n",
       "1      La guerra de papá (1977)         comedy    \n",
       "2   Off the Beaten Track (2010)    documentary    \n",
       "3        Meu Amigo Hindu (2015)          drama    \n",
       "4             Er nu zhai (1955)          drama    \n",
       "\n",
       "                                                Plot  \n",
       "0   L.R. Brane loves his life - his car, his apar...  \n",
       "1   Spain, March 1964: Quico is a very naughty ch...  \n",
       "2   One year in the life of Albin and his family ...  \n",
       "3   His father has died, he hasn't spoken with hi...  \n",
       "4   Before he was known internationally as a mart...  "
      ]
     },
     "execution_count": 30,
     "metadata": {},
     "output_type": "execute_result"
    }
   ],
   "source": [
    "test_data.head()"
   ]
  },
  {
   "cell_type": "code",
   "execution_count": 31,
   "id": "f6dde678-ade1-4b5e-af3d-6abc63d9995d",
   "metadata": {},
   "outputs": [
    {
     "data": {
      "text/html": [
       "<div>\n",
       "<style scoped>\n",
       "    .dataframe tbody tr th:only-of-type {\n",
       "        vertical-align: middle;\n",
       "    }\n",
       "\n",
       "    .dataframe tbody tr th {\n",
       "        vertical-align: top;\n",
       "    }\n",
       "\n",
       "    .dataframe thead th {\n",
       "        text-align: right;\n",
       "    }\n",
       "</style>\n",
       "<table border=\"1\" class=\"dataframe\">\n",
       "  <thead>\n",
       "    <tr style=\"text-align: right;\">\n",
       "      <th></th>\n",
       "      <th>Title</th>\n",
       "      <th>Genre</th>\n",
       "      <th>Plot</th>\n",
       "      <th>Clean Plot</th>\n",
       "    </tr>\n",
       "  </thead>\n",
       "  <tbody>\n",
       "    <tr>\n",
       "      <th>0</th>\n",
       "      <td>Edgar's Lunch (1998)</td>\n",
       "      <td>thriller</td>\n",
       "      <td>L.R. Brane loves his life - his car, his apar...</td>\n",
       "      <td>lr brane loves life car apartment job especial...</td>\n",
       "    </tr>\n",
       "    <tr>\n",
       "      <th>1</th>\n",
       "      <td>La guerra de papá (1977)</td>\n",
       "      <td>comedy</td>\n",
       "      <td>Spain, March 1964: Quico is a very naughty ch...</td>\n",
       "      <td>spain march quico naughty child three belongin...</td>\n",
       "    </tr>\n",
       "    <tr>\n",
       "      <th>2</th>\n",
       "      <td>Off the Beaten Track (2010)</td>\n",
       "      <td>documentary</td>\n",
       "      <td>One year in the life of Albin and his family ...</td>\n",
       "      <td>one year life albin family shepherds north tra...</td>\n",
       "    </tr>\n",
       "    <tr>\n",
       "      <th>3</th>\n",
       "      <td>Meu Amigo Hindu (2015)</td>\n",
       "      <td>drama</td>\n",
       "      <td>His father has died, he hasn't spoken with hi...</td>\n",
       "      <td>father died hasnt spoken brother years serious...</td>\n",
       "    </tr>\n",
       "    <tr>\n",
       "      <th>4</th>\n",
       "      <td>Er nu zhai (1955)</td>\n",
       "      <td>drama</td>\n",
       "      <td>Before he was known internationally as a mart...</td>\n",
       "      <td>known internationally martial arts superstar b...</td>\n",
       "    </tr>\n",
       "  </tbody>\n",
       "</table>\n",
       "</div>"
      ],
      "text/plain": [
       "                           Title          Genre  \\\n",
       "0          Edgar's Lunch (1998)       thriller    \n",
       "1      La guerra de papá (1977)         comedy    \n",
       "2   Off the Beaten Track (2010)    documentary    \n",
       "3        Meu Amigo Hindu (2015)          drama    \n",
       "4             Er nu zhai (1955)          drama    \n",
       "\n",
       "                                                Plot  \\\n",
       "0   L.R. Brane loves his life - his car, his apar...   \n",
       "1   Spain, March 1964: Quico is a very naughty ch...   \n",
       "2   One year in the life of Albin and his family ...   \n",
       "3   His father has died, he hasn't spoken with hi...   \n",
       "4   Before he was known internationally as a mart...   \n",
       "\n",
       "                                          Clean Plot  \n",
       "0  lr brane loves life car apartment job especial...  \n",
       "1  spain march quico naughty child three belongin...  \n",
       "2  one year life albin family shepherds north tra...  \n",
       "3  father died hasnt spoken brother years serious...  \n",
       "4  known internationally martial arts superstar b...  "
      ]
     },
     "execution_count": 31,
     "metadata": {},
     "output_type": "execute_result"
    }
   ],
   "source": [
    "# Clean it\n",
    "test_data['Clean Plot'] = test_data['Plot'].apply(clean_plot)\n",
    "test_data.head()"
   ]
  },
  {
   "cell_type": "code",
   "execution_count": 32,
   "id": "31a9916f-bdbb-4e69-8e26-71e7d2d2ec2e",
   "metadata": {},
   "outputs": [
    {
     "name": "stdout",
     "output_type": "stream",
     "text": [
      "(54200, 146144)\n"
     ]
    }
   ],
   "source": [
    "# Transform the test data\n",
    "X_test = vectorizer.transform(test_data['Clean Plot'])\n",
    "print(X_test.shape)"
   ]
  },
  {
   "cell_type": "code",
   "execution_count": 33,
   "id": "238d3036-7b3d-4990-bbe9-2442a1dae3ab",
   "metadata": {},
   "outputs": [],
   "source": [
    "y_test = test_data['Genre']"
   ]
  },
  {
   "cell_type": "markdown",
   "id": "955ea83e-941e-4c58-9e42-4cf4870e599d",
   "metadata": {},
   "source": [
    "## Naive Bayes Classifier"
   ]
  },
  {
   "cell_type": "markdown",
   "id": "45fcdb5b-df7b-40bd-bf40-02240b8b7502",
   "metadata": {},
   "source": [
    "### Train"
   ]
  },
  {
   "cell_type": "code",
   "execution_count": 34,
   "id": "82784abc-565b-46a3-a7ed-37fe23077a97",
   "metadata": {},
   "outputs": [],
   "source": [
    "model = MultinomialNB()"
   ]
  },
  {
   "cell_type": "code",
   "execution_count": 35,
   "id": "fbd85b2a-c8cf-469c-b318-c5fd58b30d44",
   "metadata": {},
   "outputs": [
    {
     "data": {
      "text/html": [
       "<style>#sk-container-id-1 {color: black;}#sk-container-id-1 pre{padding: 0;}#sk-container-id-1 div.sk-toggleable {background-color: white;}#sk-container-id-1 label.sk-toggleable__label {cursor: pointer;display: block;width: 100%;margin-bottom: 0;padding: 0.3em;box-sizing: border-box;text-align: center;}#sk-container-id-1 label.sk-toggleable__label-arrow:before {content: \"▸\";float: left;margin-right: 0.25em;color: #696969;}#sk-container-id-1 label.sk-toggleable__label-arrow:hover:before {color: black;}#sk-container-id-1 div.sk-estimator:hover label.sk-toggleable__label-arrow:before {color: black;}#sk-container-id-1 div.sk-toggleable__content {max-height: 0;max-width: 0;overflow: hidden;text-align: left;background-color: #f0f8ff;}#sk-container-id-1 div.sk-toggleable__content pre {margin: 0.2em;color: black;border-radius: 0.25em;background-color: #f0f8ff;}#sk-container-id-1 input.sk-toggleable__control:checked~div.sk-toggleable__content {max-height: 200px;max-width: 100%;overflow: auto;}#sk-container-id-1 input.sk-toggleable__control:checked~label.sk-toggleable__label-arrow:before {content: \"▾\";}#sk-container-id-1 div.sk-estimator input.sk-toggleable__control:checked~label.sk-toggleable__label {background-color: #d4ebff;}#sk-container-id-1 div.sk-label input.sk-toggleable__control:checked~label.sk-toggleable__label {background-color: #d4ebff;}#sk-container-id-1 input.sk-hidden--visually {border: 0;clip: rect(1px 1px 1px 1px);clip: rect(1px, 1px, 1px, 1px);height: 1px;margin: -1px;overflow: hidden;padding: 0;position: absolute;width: 1px;}#sk-container-id-1 div.sk-estimator {font-family: monospace;background-color: #f0f8ff;border: 1px dotted black;border-radius: 0.25em;box-sizing: border-box;margin-bottom: 0.5em;}#sk-container-id-1 div.sk-estimator:hover {background-color: #d4ebff;}#sk-container-id-1 div.sk-parallel-item::after {content: \"\";width: 100%;border-bottom: 1px solid gray;flex-grow: 1;}#sk-container-id-1 div.sk-label:hover label.sk-toggleable__label {background-color: #d4ebff;}#sk-container-id-1 div.sk-serial::before {content: \"\";position: absolute;border-left: 1px solid gray;box-sizing: border-box;top: 0;bottom: 0;left: 50%;z-index: 0;}#sk-container-id-1 div.sk-serial {display: flex;flex-direction: column;align-items: center;background-color: white;padding-right: 0.2em;padding-left: 0.2em;position: relative;}#sk-container-id-1 div.sk-item {position: relative;z-index: 1;}#sk-container-id-1 div.sk-parallel {display: flex;align-items: stretch;justify-content: center;background-color: white;position: relative;}#sk-container-id-1 div.sk-item::before, #sk-container-id-1 div.sk-parallel-item::before {content: \"\";position: absolute;border-left: 1px solid gray;box-sizing: border-box;top: 0;bottom: 0;left: 50%;z-index: -1;}#sk-container-id-1 div.sk-parallel-item {display: flex;flex-direction: column;z-index: 1;position: relative;background-color: white;}#sk-container-id-1 div.sk-parallel-item:first-child::after {align-self: flex-end;width: 50%;}#sk-container-id-1 div.sk-parallel-item:last-child::after {align-self: flex-start;width: 50%;}#sk-container-id-1 div.sk-parallel-item:only-child::after {width: 0;}#sk-container-id-1 div.sk-dashed-wrapped {border: 1px dashed gray;margin: 0 0.4em 0.5em 0.4em;box-sizing: border-box;padding-bottom: 0.4em;background-color: white;}#sk-container-id-1 div.sk-label label {font-family: monospace;font-weight: bold;display: inline-block;line-height: 1.2em;}#sk-container-id-1 div.sk-label-container {text-align: center;}#sk-container-id-1 div.sk-container {/* jupyter's `normalize.less` sets `[hidden] { display: none; }` but bootstrap.min.css set `[hidden] { display: none !important; }` so we also need the `!important` here to be able to override the default hidden behavior on the sphinx rendered scikit-learn.org. See: https://github.com/scikit-learn/scikit-learn/issues/21755 */display: inline-block !important;position: relative;}#sk-container-id-1 div.sk-text-repr-fallback {display: none;}</style><div id=\"sk-container-id-1\" class=\"sk-top-container\"><div class=\"sk-text-repr-fallback\"><pre>MultinomialNB()</pre><b>In a Jupyter environment, please rerun this cell to show the HTML representation or trust the notebook. <br />On GitHub, the HTML representation is unable to render, please try loading this page with nbviewer.org.</b></div><div class=\"sk-container\" hidden><div class=\"sk-item\"><div class=\"sk-estimator sk-toggleable\"><input class=\"sk-toggleable__control sk-hidden--visually\" id=\"sk-estimator-id-1\" type=\"checkbox\" checked><label for=\"sk-estimator-id-1\" class=\"sk-toggleable__label sk-toggleable__label-arrow\">MultinomialNB</label><div class=\"sk-toggleable__content\"><pre>MultinomialNB()</pre></div></div></div></div></div>"
      ],
      "text/plain": [
       "MultinomialNB()"
      ]
     },
     "execution_count": 35,
     "metadata": {},
     "output_type": "execute_result"
    }
   ],
   "source": [
    "model.fit(X_train, y_train)"
   ]
  },
  {
   "cell_type": "markdown",
   "id": "58afe040-097f-498e-a951-11d8c24ded67",
   "metadata": {},
   "source": [
    "### Test"
   ]
  },
  {
   "cell_type": "code",
   "execution_count": 36,
   "id": "d8f54267-ab5b-4414-8f05-01ecc3fd0970",
   "metadata": {},
   "outputs": [],
   "source": [
    "# Let's test the model with test data \n",
    "y_pred = model.predict(X_test)"
   ]
  },
  {
   "cell_type": "code",
   "execution_count": 37,
   "id": "4abe5185-33eb-48ec-937d-deebcad3416e",
   "metadata": {},
   "outputs": [
    {
     "name": "stdout",
     "output_type": "stream",
     "text": [
      "Accuracy = 44.36%\n",
      "               precision    recall  f1-score   support\n",
      "\n",
      "      action        1.00      0.00      0.00      1314\n",
      "       adult        1.00      0.00      0.00       590\n",
      "   adventure        1.00      0.00      0.00       775\n",
      "   animation        1.00      0.00      0.00       498\n",
      "   biography        1.00      0.00      0.00       264\n",
      "      comedy        0.73      0.04      0.07      7446\n",
      "       crime        1.00      0.00      0.00       505\n",
      " documentary        0.53      0.90      0.67     13096\n",
      "       drama        0.38      0.88      0.53     13612\n",
      "      family        1.00      0.00      0.00       783\n",
      "     fantasy        1.00      0.00      0.00       322\n",
      "   game-show        1.00      0.00      0.00       193\n",
      "     history        1.00      0.00      0.00       243\n",
      "      horror        1.00      0.00      0.00      2204\n",
      "       music        1.00      0.00      0.00       731\n",
      "     musical        1.00      0.00      0.00       276\n",
      "     mystery        1.00      0.00      0.00       318\n",
      "        news        1.00      0.00      0.00       181\n",
      "  reality-tv        1.00      0.00      0.00       883\n",
      "     romance        1.00      0.00      0.00       672\n",
      "      sci-fi        1.00      0.00      0.00       646\n",
      "       short        1.00      0.00      0.01      5072\n",
      "       sport        1.00      0.00      0.00       431\n",
      "   talk-show        1.00      0.00      0.00       391\n",
      "    thriller        1.00      0.00      0.00      1590\n",
      "         war        1.00      0.00      0.00       132\n",
      "     western        1.00      0.00      0.00      1032\n",
      "\n",
      "     accuracy                           0.44     54200\n",
      "    macro avg       0.95      0.07      0.05     54200\n",
      " weighted avg       0.69      0.44      0.30     54200\n",
      "\n"
     ]
    }
   ],
   "source": [
    "accuracy = accuracy_score(y_test, y_pred)\n",
    "print(f\"Accuracy = {(accuracy*100):.2f}%\")\n",
    "print(classification_report(y_test, y_pred,  zero_division=1))"
   ]
  },
  {
   "cell_type": "markdown",
   "id": "bfeb9458-f0e2-4530-9493-3612ad1a2e41",
   "metadata": {},
   "source": [
    "## Conclusion: \n",
    "\n",
    "**Multinomial Naive Bayes** predicts the Genre of movie with <u>44.36%</u> accuracy.\n",
    "\n",
    "When I ommitted the code which cleans the stop words, teh accuracy was found to be <u>44.27%</u> which is not a very large chage. "
   ]
  },
  {
   "cell_type": "code",
   "execution_count": null,
   "id": "7fa8dd50-62db-440b-a7ac-183bdf5119e1",
   "metadata": {},
   "outputs": [],
   "source": []
  },
  {
   "cell_type": "code",
   "execution_count": null,
   "id": "6067892f-65ef-4698-9cfe-03b972f151cf",
   "metadata": {},
   "outputs": [],
   "source": []
  },
  {
   "cell_type": "code",
   "execution_count": null,
   "id": "97c3e315-49a0-4499-8cf9-d90e0cf6aeac",
   "metadata": {},
   "outputs": [],
   "source": []
  }
 ],
 "metadata": {
  "kernelspec": {
   "display_name": "Python 3 (ipykernel)",
   "language": "python",
   "name": "python3"
  },
  "language_info": {
   "codemirror_mode": {
    "name": "ipython",
    "version": 3
   },
   "file_extension": ".py",
   "mimetype": "text/x-python",
   "name": "python",
   "nbconvert_exporter": "python",
   "pygments_lexer": "ipython3",
   "version": "3.11.5"
  }
 },
 "nbformat": 4,
 "nbformat_minor": 5
}
